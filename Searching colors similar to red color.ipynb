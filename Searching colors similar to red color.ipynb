{
 "cells": [
  {
   "cell_type": "code",
   "execution_count": 1,
   "id": "ffec0c09",
   "metadata": {},
   "outputs": [],
   "source": [
    "import numpy as np"
   ]
  },
  {
   "cell_type": "code",
   "execution_count": 19,
   "id": "22dc1233",
   "metadata": {},
   "outputs": [],
   "source": [
    "color_db=[[255,0,0],[254,100,100],[128,45,24],[255,245,221]]\n",
    "red=[255,0,0]"
   ]
  },
  {
   "cell_type": "code",
   "execution_count": 21,
   "id": "5b014a0b",
   "metadata": {},
   "outputs": [
    {
     "name": "stdout",
     "output_type": "stream",
     "text": [
      "[[255   0   0]]\n"
     ]
    }
   ],
   "source": [
    "def similar_to_red(color_db,red):\n",
    "    color_db=np.array(color_db)\n",
    "    red=np.array(red)\n",
    "    distances=np.sqrt(np.sum((color_db-red)**2,axis=1))\n",
    "    index_of_smallest=np.where(distances==np.amin(distances))\n",
    "    smallest_distance=color_db[index_of_smallest]\n",
    "    return smallest_distance\n",
    "closest_color=similar_to_red(color_db,red)\n",
    "print(closest_color)"
   ]
  },
  {
   "cell_type": "code",
   "execution_count": null,
   "id": "9fca8e2c",
   "metadata": {},
   "outputs": [],
   "source": []
  }
 ],
 "metadata": {
  "kernelspec": {
   "display_name": "Python 3",
   "language": "python",
   "name": "python3"
  },
  "language_info": {
   "codemirror_mode": {
    "name": "ipython",
    "version": 3
   },
   "file_extension": ".py",
   "mimetype": "text/x-python",
   "name": "python",
   "nbconvert_exporter": "python",
   "pygments_lexer": "ipython3",
   "version": "3.8.3"
  }
 },
 "nbformat": 4,
 "nbformat_minor": 5
}
